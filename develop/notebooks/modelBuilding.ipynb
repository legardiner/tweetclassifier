{
 "cells": [
  {
   "cell_type": "code",
   "execution_count": 8,
   "metadata": {},
   "outputs": [],
   "source": [
    "import pandas as pd\n",
    "import sklearn\n",
    "import numpy as np"
   ]
  },
  {
   "cell_type": "code",
   "execution_count": 9,
   "metadata": {},
   "outputs": [],
   "source": [
    "from sklearn.model_selection import cross_val_score, GridSearchCV\n",
    "from sklearn.linear_model import LogisticRegression\n",
    "from sklearn import svm\n",
    "from sklearn.tree import DecisionTreeClassifier\n",
    "from sklearn.ensemble import RandomForestClassifier, AdaBoostClassifier, GradientBoostingClassifier\n",
    "from sklearn.neighbors import KNeighborsClassifier\n",
    "from sklearn.neural_network import MLPClassifier\n",
    "from sklearn.naive_bayes import GaussianNB\n",
    "from sklearn.decomposition import PCA"
   ]
  },
  {
   "cell_type": "code",
   "execution_count": 2,
   "metadata": {},
   "outputs": [],
   "source": [
    "data_path = '../data/processed/allTweets.csv'"
   ]
  },
  {
   "cell_type": "code",
   "execution_count": 3,
   "metadata": {},
   "outputs": [],
   "source": [
    "df = pd.read_csv(data_path)"
   ]
  },
  {
   "cell_type": "code",
   "execution_count": 4,
   "metadata": {},
   "outputs": [
    {
     "data": {
      "text/html": [
       "<div>\n",
       "<style>\n",
       "    .dataframe thead tr:only-child th {\n",
       "        text-align: right;\n",
       "    }\n",
       "\n",
       "    .dataframe thead th {\n",
       "        text-align: left;\n",
       "    }\n",
       "\n",
       "    .dataframe tbody tr th {\n",
       "        vertical-align: top;\n",
       "    }\n",
       "</style>\n",
       "<table border=\"1\" class=\"dataframe\">\n",
       "  <thead>\n",
       "    <tr style=\"text-align: right;\">\n",
       "      <th></th>\n",
       "      <th>user</th>\n",
       "      <th>tweet</th>\n",
       "      <th>tweet_vectors</th>\n",
       "    </tr>\n",
       "  </thead>\n",
       "  <tbody>\n",
       "    <tr>\n",
       "      <th>0</th>\n",
       "      <td>BarackObama</td>\n",
       "      <td>i got my start holding community meetings in ...</td>\n",
       "      <td>[-6.45005098e-03  1.17649473e-01  6.28542528e-...</td>\n",
       "    </tr>\n",
       "    <tr>\n",
       "      <th>1</th>\n",
       "      <td>BarackObama</td>\n",
       "      <td>young people have helped lead all our great m...</td>\n",
       "      <td>[ 2.30369508e-01  1.77832261e-01  3.99542190e-...</td>\n",
       "    </tr>\n",
       "    <tr>\n",
       "      <th>2</th>\n",
       "      <td>BarackObama</td>\n",
       "      <td>billy graham was a humble servant who prayed ...</td>\n",
       "      <td>[ 5.53811267e-02  1.39377102e-01  4.36971709e-...</td>\n",
       "    </tr>\n",
       "    <tr>\n",
       "      <th>3</th>\n",
       "      <td>BarackObama</td>\n",
       "      <td>we are grieving with parkland .  but we are n...</td>\n",
       "      <td>[ 6.71963468e-02  8.29079449e-02 -9.17026494e-...</td>\n",
       "    </tr>\n",
       "    <tr>\n",
       "      <th>4</th>\n",
       "      <td>BarackObama</td>\n",
       "      <td>happy valentines day &lt;user&gt; .  you make every...</td>\n",
       "      <td>[ 6.05840608e-02  4.44903038e-02  1.07629903e-...</td>\n",
       "    </tr>\n",
       "  </tbody>\n",
       "</table>\n",
       "</div>"
      ],
      "text/plain": [
       "          user                                              tweet  \\\n",
       "0  BarackObama   i got my start holding community meetings in ...   \n",
       "1  BarackObama   young people have helped lead all our great m...   \n",
       "2  BarackObama   billy graham was a humble servant who prayed ...   \n",
       "3  BarackObama   we are grieving with parkland .  but we are n...   \n",
       "4  BarackObama   happy valentines day <user> .  you make every...   \n",
       "\n",
       "                                       tweet_vectors  \n",
       "0  [-6.45005098e-03  1.17649473e-01  6.28542528e-...  \n",
       "1  [ 2.30369508e-01  1.77832261e-01  3.99542190e-...  \n",
       "2  [ 5.53811267e-02  1.39377102e-01  4.36971709e-...  \n",
       "3  [ 6.71963468e-02  8.29079449e-02 -9.17026494e-...  \n",
       "4  [ 6.05840608e-02  4.44903038e-02  1.07629903e-...  "
      ]
     },
     "execution_count": 4,
     "metadata": {},
     "output_type": "execute_result"
    }
   ],
   "source": [
    "df.head()"
   ]
  },
  {
   "cell_type": "code",
   "execution_count": 5,
   "metadata": {},
   "outputs": [],
   "source": [
    "df['tweet_vectors'] = df['tweet_vectors'].apply(lambda x: \n",
    "                           np.fromstring(\n",
    "                               x.replace('\\n','')\n",
    "                                .replace('[','')\n",
    "                                .replace(']','')\n",
    "                                .replace('  ',' '), sep=' ', dtype='float32'))"
   ]
  },
  {
   "cell_type": "code",
   "execution_count": 6,
   "metadata": {},
   "outputs": [],
   "source": [
    "X = df['tweet_vectors']\n",
    "y = df['user']\n",
    "X = np.array(list(X), dtype=np.float)"
   ]
  },
  {
   "cell_type": "code",
   "execution_count": 10,
   "metadata": {},
   "outputs": [
    {
     "name": "stdout",
     "output_type": "stream",
     "text": [
      "Naive Bayes CV Accuracy: 83.44% (+/- 9.89%)\n"
     ]
    }
   ],
   "source": [
    "naive_bayes_model = GaussianNB()\n",
    "naive_bayes_scores = cross_val_score(naive_bayes_model, X, y, cv=10)\n",
    "print(\"Naive Bayes CV Accuracy: %0.2f%% (+/- %0.2f%%)\" % (naive_bayes_scores.mean()*100, naive_bayes_scores.std() * 2*100))"
   ]
  },
  {
   "cell_type": "code",
   "execution_count": 11,
   "metadata": {},
   "outputs": [
    {
     "name": "stdout",
     "output_type": "stream",
     "text": [
      "Logistic Regression CV Accuracy: 88.03% (+/- 7.09%)\n"
     ]
    }
   ],
   "source": [
    "lm_model = LogisticRegression()\n",
    "lm_scores = cross_val_score(lm_model, X, y, cv=10)\n",
    "print(\"Logistic Regression CV Accuracy: %0.2f%% (+/- %0.2f%%)\" % (lm_scores.mean()*100, lm_scores.std() * 2*100))"
   ]
  },
  {
   "cell_type": "code",
   "execution_count": 87,
   "metadata": {},
   "outputs": [
    {
     "name": "stdout",
     "output_type": "stream",
     "text": [
      "Support Vector Machine CV Accuracy: 88.88% (+/- 6.49%)\n"
     ]
    }
   ],
   "source": [
    "svm_model = svm.SVC(kernel='linear')\n",
    "svm_scores = cross_val_score(svm_model, X, y, cv=10)\n",
    "print(\"Support Vector Machine CV Accuracy: %0.2f%% (+/- %0.2f%%)\" % (svm_scores.mean()*100, svm_scores.std() * 2*100))"
   ]
  },
  {
   "cell_type": "code",
   "execution_count": 129,
   "metadata": {},
   "outputs": [
    {
     "name": "stdout",
     "output_type": "stream",
     "text": [
      "Support Vector Machine CV Accuracy: 73.85% (+/- 9.95%)\n"
     ]
    }
   ],
   "source": [
    "svm_model = svm.SVC(kernel='linear')\n",
    "svm_scores = cross_val_score(svm_model, X, y, cv=10)\n",
    "print(\"Support Vector Machine CV Accuracy: %0.2f%% (+/- %0.2f%%)\" % (svm_scores.mean()*100, svm_scores.std() * 2*100))"
   ]
  },
  {
   "cell_type": "code",
   "execution_count": 86,
   "metadata": {},
   "outputs": [
    {
     "name": "stdout",
     "output_type": "stream",
     "text": [
      "Support Vector Machine CV Accuracy: 50.02% (+/- 0.06%)\n"
     ]
    }
   ],
   "source": [
    "svm_model = svm.SVC(kernel='poly')\n",
    "svm_scores = cross_val_score(svm_model, X, y, cv=10)\n",
    "print(\"Support Vector Machine CV Accuracy: %0.2f%% (+/- %0.2f%%)\" % (svm_scores.mean()*100, svm_scores.std() * 2*100))"
   ]
  },
  {
   "cell_type": "code",
   "execution_count": 82,
   "metadata": {},
   "outputs": [
    {
     "name": "stdout",
     "output_type": "stream",
     "text": [
      "CART CV Accuracy: 75.53% (+/- 4.90%)\n"
     ]
    }
   ],
   "source": [
    "CART_model = DecisionTreeClassifier(random_state=0)\n",
    "CART_scores = cross_val_score(CART_model, X, y, cv=10)\n",
    "print(\"CART CV Accuracy: %0.2f%% (+/- %0.2f%%)\" % (CART_scores.mean()*100, CART_scores.std() * 2*100))"
   ]
  },
  {
   "cell_type": "code",
   "execution_count": null,
   "metadata": {},
   "outputs": [],
   "source": []
  }
 ],
 "metadata": {
  "kernelspec": {
   "display_name": "Python [default]",
   "language": "python",
   "name": "python3"
  },
  "language_info": {
   "codemirror_mode": {
    "name": "ipython",
    "version": 3
   },
   "file_extension": ".py",
   "mimetype": "text/x-python",
   "name": "python",
   "nbconvert_exporter": "python",
   "pygments_lexer": "ipython3",
   "version": "3.6.3"
  }
 },
 "nbformat": 4,
 "nbformat_minor": 2
}
